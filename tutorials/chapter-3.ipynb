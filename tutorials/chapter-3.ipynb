{
 "cells": [
  {
   "cell_type": "markdown",
   "id": "7ab6a7e1-d5cc-4e91-b924-8467953c8804",
   "metadata": {},
   "source": [
    "# Chapter 3"
   ]
  },
  {
   "cell_type": "markdown",
   "id": "15a20ebe-2b92-4f91-b99b-c1e1faf3246a",
   "metadata": {},
   "source": [
    "Decision between two variables and the corresponding output. The function below is called step function. It is also called heavyside function as the threshold is 0 and as such a special example of a step function.\n",
    "Try to manipulate the input and observe the way the decision is affected by different values."
   ]
  },
  {
   "cell_type": "code",
   "execution_count": 7,
   "id": "517d8636-b849-4260-bdec-0323da390011",
   "metadata": {},
   "outputs": [
    {
     "name": "stdout",
     "output_type": "stream",
     "text": [
      "Input:2\n",
      "Output:1\n"
     ]
    }
   ],
   "source": [
    "def decision(sum):\n",
    "    if sum >= 1:\n",
    "        return 1\n",
    "    else:\n",
    "        return 0\n",
    "\n",
    "input = 2\n",
    "result = decision(input)\n",
    "\n",
    "print(\"Input:\" + str(input))\n",
    "print(\"Output:\" + str(result))"
   ]
  },
  {
   "cell_type": "code",
   "execution_count": null,
   "id": "220272b4-5c9d-4fac-9a5b-61bcd520ecc9",
   "metadata": {},
   "outputs": [],
   "source": []
  }
 ],
 "metadata": {
  "kernelspec": {
   "display_name": "Python 3 (ipykernel)",
   "language": "python",
   "name": "python3"
  },
  "language_info": {
   "codemirror_mode": {
    "name": "ipython",
    "version": 3
   },
   "file_extension": ".py",
   "mimetype": "text/x-python",
   "name": "python",
   "nbconvert_exporter": "python",
   "pygments_lexer": "ipython3",
   "version": "3.12.7"
  }
 },
 "nbformat": 4,
 "nbformat_minor": 5
}
